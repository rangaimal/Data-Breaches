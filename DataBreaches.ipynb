{
 "cells": [
  {
   "cell_type": "code",
   "execution_count": 1,
   "metadata": {},
   "outputs": [],
   "source": [
    "import pandas as pd\n",
    "import numpy as np\n",
    "import matplotlib.pyplot as plt\n",
    "import seaborn as sns\n",
    "from sklearn.preprocessing import MinMaxScaler\n",
    "from sklearn.preprocessing import StandardScaler\n",
    "from sklearn.cluster import KMeans\n",
    "from sklearn.decomposition import PCA\n",
    "import pylab as pl\n",
    "import time \n",
    "%matplotlib inline"
   ]
  },
  {
   "cell_type": "markdown",
   "metadata": {},
   "source": [
    "# import data "
   ]
  },
  {
   "cell_type": "code",
   "execution_count": 36,
   "metadata": {},
   "outputs": [],
   "source": [
    "df = pd.read_excel(r'C:/Users/Acer/Downloads/DataBreaches.xlsx',index_col=0)"
   ]
  },
  {
   "cell_type": "code",
   "execution_count": 37,
   "metadata": {},
   "outputs": [
    {
     "data": {
      "text/html": [
       "<div>\n",
       "<style scoped>\n",
       "    .dataframe tbody tr th:only-of-type {\n",
       "        vertical-align: middle;\n",
       "    }\n",
       "\n",
       "    .dataframe tbody tr th {\n",
       "        vertical-align: top;\n",
       "    }\n",
       "\n",
       "    .dataframe thead th {\n",
       "        text-align: right;\n",
       "    }\n",
       "</style>\n",
       "<table border=\"1\" class=\"dataframe\">\n",
       "  <thead>\n",
       "    <tr style=\"text-align: right;\">\n",
       "      <th></th>\n",
       "      <th>alternative_name</th>\n",
       "      <th>records_lost</th>\n",
       "      <th>YEAR</th>\n",
       "      <th>story</th>\n",
       "      <th>SECTOR</th>\n",
       "      <th>METHOD</th>\n",
       "      <th>interesting story</th>\n",
       "      <th>DATA_SENSITIVITY</th>\n",
       "      <th>DISPLAYED RECORDS</th>\n",
       "      <th>source_name</th>\n",
       "      <th>1st source link</th>\n",
       "      <th>2nd source link</th>\n",
       "    </tr>\n",
       "    <tr>\n",
       "      <th>Entity</th>\n",
       "      <th></th>\n",
       "      <th></th>\n",
       "      <th></th>\n",
       "      <th></th>\n",
       "      <th></th>\n",
       "      <th></th>\n",
       "      <th></th>\n",
       "      <th></th>\n",
       "      <th></th>\n",
       "      <th></th>\n",
       "      <th></th>\n",
       "      <th></th>\n",
       "    </tr>\n",
       "  </thead>\n",
       "  <tbody>\n",
       "    <tr>\n",
       "      <th>NaN</th>\n",
       "      <td>NaN</td>\n",
       "      <td>NaN</td>\n",
       "      <td>NaN</td>\n",
       "      <td>NaN</td>\n",
       "      <td>web\\nhealthcare\\napp\\nretail\\ngaming\\ntranspor...</td>\n",
       "      <td>poor security\\nhacked\\noops!\\nlost device \\nin...</td>\n",
       "      <td>NaN</td>\n",
       "      <td>1. Just email address/Online information \\n2 S...</td>\n",
       "      <td>=IF(C3&gt;100000000,C3,\")</td>\n",
       "      <td>NaN</td>\n",
       "      <td>NaN</td>\n",
       "      <td>NaN</td>\n",
       "    </tr>\n",
       "    <tr>\n",
       "      <th>US Customs and Border Protection</th>\n",
       "      <td>NaN</td>\n",
       "      <td>100000.0</td>\n",
       "      <td>2019.0</td>\n",
       "      <td>June 2019. Photos of travellers' faces and lic...</td>\n",
       "      <td>government</td>\n",
       "      <td>hacked</td>\n",
       "      <td>y</td>\n",
       "      <td>2</td>\n",
       "      <td>NaN</td>\n",
       "      <td>Washington Post</td>\n",
       "      <td>https://www.washingtonpost.com/technology/2019...</td>\n",
       "      <td>NaN</td>\n",
       "    </tr>\n",
       "    <tr>\n",
       "      <th>Click2Gov</th>\n",
       "      <td>NaN</td>\n",
       "      <td>300000.0</td>\n",
       "      <td>2018.0</td>\n",
       "      <td>Dec 2018. Vulnerabilities in Click2Gov, a type...</td>\n",
       "      <td>financial</td>\n",
       "      <td>hacked</td>\n",
       "      <td>NaN</td>\n",
       "      <td>3</td>\n",
       "      <td>NaN</td>\n",
       "      <td>Fortune</td>\n",
       "      <td>http://fortune.com/2018/12/18/click2gov-local-...</td>\n",
       "      <td>NaN</td>\n",
       "    </tr>\n",
       "    <tr>\n",
       "      <th>SingHealth</th>\n",
       "      <td>NaN</td>\n",
       "      <td>1500000.0</td>\n",
       "      <td>2018.0</td>\n",
       "      <td>July 2018. Hackers stole personal details of 1...</td>\n",
       "      <td>healthcare</td>\n",
       "      <td>hacked</td>\n",
       "      <td>NaN</td>\n",
       "      <td>4</td>\n",
       "      <td>NaN</td>\n",
       "      <td>Straits Times</td>\n",
       "      <td>https://www.straitstimes.com/singapore/persona...</td>\n",
       "      <td>NaN</td>\n",
       "    </tr>\n",
       "    <tr>\n",
       "      <th>Quest Diagnostics</th>\n",
       "      <td>NaN</td>\n",
       "      <td>11900000.0</td>\n",
       "      <td>2019.0</td>\n",
       "      <td>June 2019. One of the biggest blood testing pr...</td>\n",
       "      <td>healthcare</td>\n",
       "      <td>poor security</td>\n",
       "      <td>NaN</td>\n",
       "      <td>4</td>\n",
       "      <td>NaN</td>\n",
       "      <td>NBC News</td>\n",
       "      <td>https://www.nbcnewyork.com/news/local/Quest-Di...</td>\n",
       "      <td>NaN</td>\n",
       "    </tr>\n",
       "  </tbody>\n",
       "</table>\n",
       "</div>"
      ],
      "text/plain": [
       "                                 alternative_name  records_lost    YEAR  \\\n",
       "Entity                                                                    \n",
       "NaN                                           NaN           NaN     NaN   \n",
       "US Customs and Border Protection              NaN      100000.0  2019.0   \n",
       "Click2Gov                                     NaN      300000.0  2018.0   \n",
       "SingHealth                                    NaN     1500000.0  2018.0   \n",
       "Quest Diagnostics                             NaN    11900000.0  2019.0   \n",
       "\n",
       "                                                                              story  \\\n",
       "Entity                                                                                \n",
       "NaN                                                                             NaN   \n",
       "US Customs and Border Protection  June 2019. Photos of travellers' faces and lic...   \n",
       "Click2Gov                         Dec 2018. Vulnerabilities in Click2Gov, a type...   \n",
       "SingHealth                        July 2018. Hackers stole personal details of 1...   \n",
       "Quest Diagnostics                 June 2019. One of the biggest blood testing pr...   \n",
       "\n",
       "                                                                             SECTOR  \\\n",
       "Entity                                                                                \n",
       "NaN                               web\\nhealthcare\\napp\\nretail\\ngaming\\ntranspor...   \n",
       "US Customs and Border Protection                                         government   \n",
       "Click2Gov                                                                 financial   \n",
       "SingHealth                                                               healthcare   \n",
       "Quest Diagnostics                                                        healthcare   \n",
       "\n",
       "                                                                             METHOD  \\\n",
       "Entity                                                                                \n",
       "NaN                               poor security\\nhacked\\noops!\\nlost device \\nin...   \n",
       "US Customs and Border Protection                                             hacked   \n",
       "Click2Gov                                                                    hacked   \n",
       "SingHealth                                                                   hacked   \n",
       "Quest Diagnostics                                                     poor security   \n",
       "\n",
       "                                 interesting story  \\\n",
       "Entity                                               \n",
       "NaN                                            NaN   \n",
       "US Customs and Border Protection                 y   \n",
       "Click2Gov                                      NaN   \n",
       "SingHealth                                     NaN   \n",
       "Quest Diagnostics                              NaN   \n",
       "\n",
       "                                                                   DATA_SENSITIVITY  \\\n",
       "Entity                                                                                \n",
       "NaN                               1. Just email address/Online information \\n2 S...   \n",
       "US Customs and Border Protection                                                  2   \n",
       "Click2Gov                                                                         3   \n",
       "SingHealth                                                                        4   \n",
       "Quest Diagnostics                                                                 4   \n",
       "\n",
       "                                       DISPLAYED RECORDS      source_name  \\\n",
       "Entity                                                                      \n",
       "NaN                               =IF(C3>100000000,C3,\")              NaN   \n",
       "US Customs and Border Protection                     NaN  Washington Post   \n",
       "Click2Gov                                            NaN          Fortune   \n",
       "SingHealth                                           NaN    Straits Times   \n",
       "Quest Diagnostics                                    NaN         NBC News   \n",
       "\n",
       "                                                                    1st source link  \\\n",
       "Entity                                                                                \n",
       "NaN                                                                             NaN   \n",
       "US Customs and Border Protection  https://www.washingtonpost.com/technology/2019...   \n",
       "Click2Gov                         http://fortune.com/2018/12/18/click2gov-local-...   \n",
       "SingHealth                        https://www.straitstimes.com/singapore/persona...   \n",
       "Quest Diagnostics                 https://www.nbcnewyork.com/news/local/Quest-Di...   \n",
       "\n",
       "                                 2nd source link  \n",
       "Entity                                            \n",
       "NaN                                          NaN  \n",
       "US Customs and Border Protection             NaN  \n",
       "Click2Gov                                    NaN  \n",
       "SingHealth                                   NaN  \n",
       "Quest Diagnostics                            NaN  "
      ]
     },
     "execution_count": 37,
     "metadata": {},
     "output_type": "execute_result"
    }
   ],
   "source": [
    "df.head()"
   ]
  },
  {
   "cell_type": "markdown",
   "metadata": {},
   "source": [
    "# Data description\n",
    "# calling describe method \n",
    " "
   ]
  },
  {
   "cell_type": "code",
   "execution_count": 38,
   "metadata": {},
   "outputs": [],
   "source": [
    "desc = df.describe()"
   ]
  },
  {
   "cell_type": "code",
   "execution_count": 39,
   "metadata": {},
   "outputs": [
    {
     "data": {
      "text/html": [
       "<div>\n",
       "<style scoped>\n",
       "    .dataframe tbody tr th:only-of-type {\n",
       "        vertical-align: middle;\n",
       "    }\n",
       "\n",
       "    .dataframe tbody tr th {\n",
       "        vertical-align: top;\n",
       "    }\n",
       "\n",
       "    .dataframe thead th {\n",
       "        text-align: right;\n",
       "    }\n",
       "</style>\n",
       "<table border=\"1\" class=\"dataframe\">\n",
       "  <thead>\n",
       "    <tr style=\"text-align: right;\">\n",
       "      <th></th>\n",
       "      <th>records_lost</th>\n",
       "      <th>YEAR</th>\n",
       "    </tr>\n",
       "  </thead>\n",
       "  <tbody>\n",
       "    <tr>\n",
       "      <th>count</th>\n",
       "      <td>3.380000e+02</td>\n",
       "      <td>339.000000</td>\n",
       "    </tr>\n",
       "    <tr>\n",
       "      <th>mean</th>\n",
       "      <td>4.008553e+07</td>\n",
       "      <td>2013.752212</td>\n",
       "    </tr>\n",
       "    <tr>\n",
       "      <th>std</th>\n",
       "      <td>1.443840e+08</td>\n",
       "      <td>3.835827</td>\n",
       "    </tr>\n",
       "    <tr>\n",
       "      <th>min</th>\n",
       "      <td>0.000000e+00</td>\n",
       "      <td>1999.000000</td>\n",
       "    </tr>\n",
       "    <tr>\n",
       "      <th>25%</th>\n",
       "      <td>4.275000e+05</td>\n",
       "      <td>2011.000000</td>\n",
       "    </tr>\n",
       "    <tr>\n",
       "      <th>50%</th>\n",
       "      <td>3.000000e+06</td>\n",
       "      <td>2014.000000</td>\n",
       "    </tr>\n",
       "    <tr>\n",
       "      <th>75%</th>\n",
       "      <td>1.800000e+07</td>\n",
       "      <td>2017.000000</td>\n",
       "    </tr>\n",
       "    <tr>\n",
       "      <th>max</th>\n",
       "      <td>1.370000e+09</td>\n",
       "      <td>2019.000000</td>\n",
       "    </tr>\n",
       "  </tbody>\n",
       "</table>\n",
       "</div>"
      ],
      "text/plain": [
       "       records_lost         YEAR\n",
       "count  3.380000e+02   339.000000\n",
       "mean   4.008553e+07  2013.752212\n",
       "std    1.443840e+08     3.835827\n",
       "min    0.000000e+00  1999.000000\n",
       "25%    4.275000e+05  2011.000000\n",
       "50%    3.000000e+06  2014.000000\n",
       "75%    1.800000e+07  2017.000000\n",
       "max    1.370000e+09  2019.000000"
      ]
     },
     "execution_count": 39,
     "metadata": {},
     "output_type": "execute_result"
    }
   ],
   "source": [
    "desc"
   ]
  },
  {
   "cell_type": "code",
   "execution_count": 40,
   "metadata": {},
   "outputs": [
    {
     "name": "stdout",
     "output_type": "stream",
     "text": [
      "<class 'pandas.core.frame.DataFrame'>\n",
      "Index: 340 entries, nan to AOL\n",
      "Data columns (total 12 columns):\n",
      " #   Column             Non-Null Count  Dtype  \n",
      "---  ------             --------------  -----  \n",
      " 0   alternative_name   136 non-null    object \n",
      " 1   records_lost       338 non-null    float64\n",
      " 2   YEAR               339 non-null    float64\n",
      " 3   story              339 non-null    object \n",
      " 4   SECTOR             340 non-null    object \n",
      " 5   METHOD             340 non-null    object \n",
      " 6   interesting story  69 non-null     object \n",
      " 7   DATA_SENSITIVITY   340 non-null    object \n",
      " 8   DISPLAYED RECORDS  33 non-null     object \n",
      " 9   source_name        339 non-null    object \n",
      " 10  1st source link    339 non-null    object \n",
      " 11  2nd source link    32 non-null     object \n",
      "dtypes: float64(2), object(10)\n",
      "memory usage: 34.5+ KB\n"
     ]
    }
   ],
   "source": [
    "df.info()"
   ]
  },
  {
   "cell_type": "code",
   "execution_count": 41,
   "metadata": {},
   "outputs": [
    {
     "data": {
      "text/plain": [
       "alternative_name      object\n",
       "records_lost         float64\n",
       "YEAR                 float64\n",
       "story                 object\n",
       "SECTOR                object\n",
       "METHOD                object\n",
       "interesting story     object\n",
       "DATA_SENSITIVITY      object\n",
       "DISPLAYED RECORDS     object\n",
       "source_name           object\n",
       "1st source link       object\n",
       "2nd source link       object\n",
       "dtype: object"
      ]
     },
     "execution_count": 41,
     "metadata": {},
     "output_type": "execute_result"
    }
   ],
   "source": [
    "df.dtypes"
   ]
  },
  {
   "cell_type": "markdown",
   "metadata": {},
   "source": [
    "# Data Cleasnisng & validation"
   ]
  },
  {
   "cell_type": "code",
   "execution_count": 42,
   "metadata": {},
   "outputs": [],
   "source": [
    "#remove null values\n",
    "df = pd.read_excel(r'C:/Users/Acer/Downloads/DataBreaches.xlsx',index_col=0,na_values=['n/a'] )"
   ]
  },
  {
   "cell_type": "code",
   "execution_count": 43,
   "metadata": {},
   "outputs": [],
   "source": [
    "# Remove the columns\n",
    "df1 = df.drop(columns=['alternative_name', 'interesting story', '1st source link','2nd source link','DISPLAYED RECORDS'], axis=1).sample(100)"
   ]
  },
  {
   "cell_type": "code",
   "execution_count": 44,
   "metadata": {},
   "outputs": [
    {
     "data": {
      "text/html": [
       "<div>\n",
       "<style scoped>\n",
       "    .dataframe tbody tr th:only-of-type {\n",
       "        vertical-align: middle;\n",
       "    }\n",
       "\n",
       "    .dataframe tbody tr th {\n",
       "        vertical-align: top;\n",
       "    }\n",
       "\n",
       "    .dataframe thead th {\n",
       "        text-align: right;\n",
       "    }\n",
       "</style>\n",
       "<table border=\"1\" class=\"dataframe\">\n",
       "  <thead>\n",
       "    <tr style=\"text-align: right;\">\n",
       "      <th></th>\n",
       "      <th>records_lost</th>\n",
       "      <th>YEAR</th>\n",
       "      <th>story</th>\n",
       "      <th>SECTOR</th>\n",
       "      <th>METHOD</th>\n",
       "      <th>DATA_SENSITIVITY</th>\n",
       "      <th>source_name</th>\n",
       "    </tr>\n",
       "    <tr>\n",
       "      <th>Entity</th>\n",
       "      <th></th>\n",
       "      <th></th>\n",
       "      <th></th>\n",
       "      <th></th>\n",
       "      <th></th>\n",
       "      <th></th>\n",
       "      <th></th>\n",
       "    </tr>\n",
       "  </thead>\n",
       "  <tbody>\n",
       "    <tr>\n",
       "      <th>Gamigo</th>\n",
       "      <td>8000000.0</td>\n",
       "      <td>2012.0</td>\n",
       "      <td>Jul 2012. 4 months after the gaming site Gamig...</td>\n",
       "      <td>web</td>\n",
       "      <td>hacked</td>\n",
       "      <td>1</td>\n",
       "      <td>Forbes</td>\n",
       "    </tr>\n",
       "    <tr>\n",
       "      <th>RootsWeb</th>\n",
       "      <td>300000.0</td>\n",
       "      <td>2017.0</td>\n",
       "      <td>Dec 2017. Ancestry.com's community-driven site...</td>\n",
       "      <td>web</td>\n",
       "      <td>poor security</td>\n",
       "      <td>4</td>\n",
       "      <td>Threat Post</td>\n",
       "    </tr>\n",
       "    <tr>\n",
       "      <th>KT Corp.</th>\n",
       "      <td>8700000.0</td>\n",
       "      <td>2012.0</td>\n",
       "      <td>Jul 2012. Two suspects reportedly earnt an est...</td>\n",
       "      <td>telecoms</td>\n",
       "      <td>hacked</td>\n",
       "      <td>2</td>\n",
       "      <td>Korea Times, CNet</td>\n",
       "    </tr>\n",
       "    <tr>\n",
       "      <th>Privatization Agency of the Republic of Serbia</th>\n",
       "      <td>5190396.0</td>\n",
       "      <td>2014.0</td>\n",
       "      <td>Dec 2014. A text file with personal data and f...</td>\n",
       "      <td>government</td>\n",
       "      <td>oops!</td>\n",
       "      <td>2</td>\n",
       "      <td>Poverenik</td>\n",
       "    </tr>\n",
       "    <tr>\n",
       "      <th>Instagram</th>\n",
       "      <td>6000000.0</td>\n",
       "      <td>2017.0</td>\n",
       "      <td>Sep 2017. A bug exposed user's contact informa...</td>\n",
       "      <td>web</td>\n",
       "      <td>hacked</td>\n",
       "      <td>1</td>\n",
       "      <td>The Verge</td>\n",
       "    </tr>\n",
       "  </tbody>\n",
       "</table>\n",
       "</div>"
      ],
      "text/plain": [
       "                                                records_lost    YEAR  \\\n",
       "Entity                                                                 \n",
       "Gamigo                                             8000000.0  2012.0   \n",
       "RootsWeb                                            300000.0  2017.0   \n",
       "KT Corp.                                           8700000.0  2012.0   \n",
       "Privatization Agency of the Republic of Serbia     5190396.0  2014.0   \n",
       "Instagram                                          6000000.0  2017.0   \n",
       "\n",
       "                                                                                            story  \\\n",
       "Entity                                                                                              \n",
       "Gamigo                                          Jul 2012. 4 months after the gaming site Gamig...   \n",
       "RootsWeb                                        Dec 2017. Ancestry.com's community-driven site...   \n",
       "KT Corp.                                        Jul 2012. Two suspects reportedly earnt an est...   \n",
       "Privatization Agency of the Republic of Serbia  Dec 2014. A text file with personal data and f...   \n",
       "Instagram                                       Sep 2017. A bug exposed user's contact informa...   \n",
       "\n",
       "                                                    SECTOR         METHOD  \\\n",
       "Entity                                                                      \n",
       "Gamigo                                                 web         hacked   \n",
       "RootsWeb                                               web  poor security   \n",
       "KT Corp.                                          telecoms         hacked   \n",
       "Privatization Agency of the Republic of Serbia  government          oops!   \n",
       "Instagram                                              web         hacked   \n",
       "\n",
       "                                               DATA_SENSITIVITY  \\\n",
       "Entity                                                            \n",
       "Gamigo                                                        1   \n",
       "RootsWeb                                                      4   \n",
       "KT Corp.                                                      2   \n",
       "Privatization Agency of the Republic of Serbia                2   \n",
       "Instagram                                                     1   \n",
       "\n",
       "                                                      source_name  \n",
       "Entity                                                             \n",
       "Gamigo                                                     Forbes  \n",
       "RootsWeb                                              Threat Post  \n",
       "KT Corp.                                        Korea Times, CNet  \n",
       "Privatization Agency of the Republic of Serbia          Poverenik  \n",
       "Instagram                                               The Verge  "
      ]
     },
     "execution_count": 44,
     "metadata": {},
     "output_type": "execute_result"
    }
   ],
   "source": [
    "df1.head()"
   ]
  },
  {
   "cell_type": "code",
   "execution_count": 45,
   "metadata": {},
   "outputs": [
    {
     "data": {
      "text/plain": [
       "records_lost        0\n",
       "YEAR                0\n",
       "story               0\n",
       "SECTOR              0\n",
       "METHOD              0\n",
       "DATA_SENSITIVITY    0\n",
       "source_name         0\n",
       "dtype: int64"
      ]
     },
     "execution_count": 45,
     "metadata": {},
     "output_type": "execute_result"
    }
   ],
   "source": [
    "df1.isnull().sum()"
   ]
  },
  {
   "cell_type": "code",
   "execution_count": 46,
   "metadata": {},
   "outputs": [
    {
     "data": {
      "text/plain": [
       "Entity\n",
       "Gamigo                                            Jul 2012 4 months after the gaming site Gamigo...\n",
       "RootsWeb                                          Dec 2017 Ancestrycom's community-driven site R...\n",
       "KT Corp.                                          Jul 2012 Two suspects reportedly earnt an esti...\n",
       "Privatization Agency of the Republic of Serbia    Dec 2014 A text file with personal data and fi...\n",
       "Instagram                                         Sep 2017 A bug exposed user's contact informat...\n",
       "Name: story, dtype: object"
      ]
     },
     "execution_count": 46,
     "metadata": {},
     "output_type": "execute_result"
    }
   ],
   "source": [
    "import re\n",
    "\n",
    "# Remove punctuation\n",
    "df1['story'] = \\\n",
    "df1['story'].map(lambda x: re.sub('[,\\.!?]', '', x))\n",
    "\n",
    "# Print out the first rows of papers\n",
    "df1['story'].head()"
   ]
  },
  {
   "cell_type": "markdown",
   "metadata": {},
   "source": [
    "# Check missing info"
   ]
  },
  {
   "cell_type": "code",
   "execution_count": 47,
   "metadata": {},
   "outputs": [],
   "source": [
    "missing_info = list(df1.columns[df1.isnull().any()])"
   ]
  },
  {
   "cell_type": "code",
   "execution_count": 48,
   "metadata": {},
   "outputs": [
    {
     "data": {
      "text/plain": [
       "[]"
      ]
     },
     "execution_count": 48,
     "metadata": {},
     "output_type": "execute_result"
    }
   ],
   "source": [
    "missing_info"
   ]
  },
  {
   "cell_type": "code",
   "execution_count": 49,
   "metadata": {},
   "outputs": [],
   "source": [
    "for col in missing_info:\n",
    "    num_missing = df1[df1[col].isnull() == True].shape[0]\n",
    "    print('number missing for column {}: {}'.format(col, \n",
    "                                                    num_missing))"
   ]
  },
  {
   "cell_type": "markdown",
   "metadata": {},
   "source": [
    "# Check the correlation"
   ]
  },
  {
   "cell_type": "code",
   "execution_count": 50,
   "metadata": {},
   "outputs": [],
   "source": [
    "# validate the cloumns using correlation matrix.\n",
    "# The statistical relationship between two variables is referred to as their correlation.\n",
    "# correlation coefficient will always be in the range of -1 to 1.\n",
    "# minus values means negative relationship betwwen two variables.\n",
    "# 0 implying no correlation.\n",
    "# Positive correlations imply that as x increases, so does y. \n"
   ]
  },
  {
   "cell_type": "code",
   "execution_count": 51,
   "metadata": {},
   "outputs": [
    {
     "data": {
      "text/html": [
       "<div>\n",
       "<style scoped>\n",
       "    .dataframe tbody tr th:only-of-type {\n",
       "        vertical-align: middle;\n",
       "    }\n",
       "\n",
       "    .dataframe tbody tr th {\n",
       "        vertical-align: top;\n",
       "    }\n",
       "\n",
       "    .dataframe thead th {\n",
       "        text-align: right;\n",
       "    }\n",
       "</style>\n",
       "<table border=\"1\" class=\"dataframe\">\n",
       "  <thead>\n",
       "    <tr style=\"text-align: right;\">\n",
       "      <th></th>\n",
       "      <th>records_lost</th>\n",
       "      <th>YEAR</th>\n",
       "      <th>story</th>\n",
       "      <th>SECTOR</th>\n",
       "      <th>METHOD</th>\n",
       "      <th>DATA_SENSITIVITY</th>\n",
       "      <th>source_name</th>\n",
       "    </tr>\n",
       "  </thead>\n",
       "  <tbody>\n",
       "    <tr>\n",
       "      <th>records_lost</th>\n",
       "      <td>1.000000</td>\n",
       "      <td>0.283247</td>\n",
       "      <td>0.136146</td>\n",
       "      <td>0.126314</td>\n",
       "      <td>0.070060</td>\n",
       "      <td>-0.094539</td>\n",
       "      <td>0.009581</td>\n",
       "    </tr>\n",
       "    <tr>\n",
       "      <th>YEAR</th>\n",
       "      <td>0.283247</td>\n",
       "      <td>1.000000</td>\n",
       "      <td>-0.063531</td>\n",
       "      <td>0.179906</td>\n",
       "      <td>0.154397</td>\n",
       "      <td>-0.038792</td>\n",
       "      <td>0.220061</td>\n",
       "    </tr>\n",
       "    <tr>\n",
       "      <th>story</th>\n",
       "      <td>0.136146</td>\n",
       "      <td>-0.063531</td>\n",
       "      <td>1.000000</td>\n",
       "      <td>-0.036152</td>\n",
       "      <td>0.013858</td>\n",
       "      <td>0.094247</td>\n",
       "      <td>-0.238072</td>\n",
       "    </tr>\n",
       "    <tr>\n",
       "      <th>SECTOR</th>\n",
       "      <td>0.126314</td>\n",
       "      <td>0.179906</td>\n",
       "      <td>-0.036152</td>\n",
       "      <td>1.000000</td>\n",
       "      <td>-0.190920</td>\n",
       "      <td>-0.385074</td>\n",
       "      <td>-0.025713</td>\n",
       "    </tr>\n",
       "    <tr>\n",
       "      <th>METHOD</th>\n",
       "      <td>0.070060</td>\n",
       "      <td>0.154397</td>\n",
       "      <td>0.013858</td>\n",
       "      <td>-0.190920</td>\n",
       "      <td>1.000000</td>\n",
       "      <td>0.039425</td>\n",
       "      <td>0.118612</td>\n",
       "    </tr>\n",
       "    <tr>\n",
       "      <th>DATA_SENSITIVITY</th>\n",
       "      <td>-0.094539</td>\n",
       "      <td>-0.038792</td>\n",
       "      <td>0.094247</td>\n",
       "      <td>-0.385074</td>\n",
       "      <td>0.039425</td>\n",
       "      <td>1.000000</td>\n",
       "      <td>-0.055952</td>\n",
       "    </tr>\n",
       "    <tr>\n",
       "      <th>source_name</th>\n",
       "      <td>0.009581</td>\n",
       "      <td>0.220061</td>\n",
       "      <td>-0.238072</td>\n",
       "      <td>-0.025713</td>\n",
       "      <td>0.118612</td>\n",
       "      <td>-0.055952</td>\n",
       "      <td>1.000000</td>\n",
       "    </tr>\n",
       "  </tbody>\n",
       "</table>\n",
       "</div>"
      ],
      "text/plain": [
       "                  records_lost      YEAR     story    SECTOR    METHOD  \\\n",
       "records_lost          1.000000  0.283247  0.136146  0.126314  0.070060   \n",
       "YEAR                  0.283247  1.000000 -0.063531  0.179906  0.154397   \n",
       "story                 0.136146 -0.063531  1.000000 -0.036152  0.013858   \n",
       "SECTOR                0.126314  0.179906 -0.036152  1.000000 -0.190920   \n",
       "METHOD                0.070060  0.154397  0.013858 -0.190920  1.000000   \n",
       "DATA_SENSITIVITY     -0.094539 -0.038792  0.094247 -0.385074  0.039425   \n",
       "source_name           0.009581  0.220061 -0.238072 -0.025713  0.118612   \n",
       "\n",
       "                  DATA_SENSITIVITY  source_name  \n",
       "records_lost             -0.094539     0.009581  \n",
       "YEAR                     -0.038792     0.220061  \n",
       "story                     0.094247    -0.238072  \n",
       "SECTOR                   -0.385074    -0.025713  \n",
       "METHOD                    0.039425     0.118612  \n",
       "DATA_SENSITIVITY          1.000000    -0.055952  \n",
       "source_name              -0.055952     1.000000  "
      ]
     },
     "execution_count": 51,
     "metadata": {},
     "output_type": "execute_result"
    }
   ],
   "source": [
    "df1['story']=df1['story'].astype('category').cat.codes\n",
    "df1['SECTOR']=df1['SECTOR'].astype('category').cat.codes\n",
    "df1['METHOD']=df1['METHOD'].astype('category').cat.codes\n",
    "df1['source_name']=df1['source_name'].astype('category').cat.codes\n",
    "df1['records_lost']=df1['records_lost'].astype('category').cat.codes\n",
    "df1['YEAR']=df1['YEAR'].astype('category').cat.codes\n",
    "df1['DATA_SENSITIVITY']=df1['DATA_SENSITIVITY'].astype('category').cat.codes\n",
    "df1.corr()\n"
   ]
  },
  {
   "cell_type": "markdown",
   "metadata": {},
   "source": [
    "# Correlation graph"
   ]
  },
  {
   "cell_type": "code",
   "execution_count": 52,
   "metadata": {},
   "outputs": [
    {
     "data": {
      "image/png": "[encoded data removed]",
      "text/plain": [
       "<Figure size 432x288 with 2 Axes>"
      ]
     },
     "metadata": {
      "needs_background": "light"
     },
     "output_type": "display_data"
    }
   ],
   "source": [
    "corr = df1.corr()\n",
    "ax = sns.heatmap(\n",
    "    corr, \n",
    "    vmin=-1, vmax=1, center=0,\n",
    "    cmap=sns.diverging_palette(20, 220, n=200),\n",
    "    square=True\n",
    ")\n",
    "ax.set_xticklabels(\n",
    "    ax.get_xticklabels(),\n",
    "    rotation=45,\n",
    "    horizontalalignment='right'\n",
    ");"
   ]
  },
  {
   "cell_type": "code",
   "execution_count": null,
   "metadata": {},
   "outputs": [],
   "source": []
  },
  {
   "cell_type": "code",
   "execution_count": 53,
   "metadata": {},
   "outputs": [],
   "source": [
    "# Remove the columns\n",
    "df2 = df.drop(columns=['alternative_name', 'interesting story', '1st source link','2nd source link','DISPLAYED RECORDS','story','SECTOR','METHOD','source_name'], axis=1).sample(100)"
   ]
  },
  {
   "cell_type": "code",
   "execution_count": 54,
   "metadata": {},
   "outputs": [
    {
     "data": {
      "text/html": [
       "<div>\n",
       "<style scoped>\n",
       "    .dataframe tbody tr th:only-of-type {\n",
       "        vertical-align: middle;\n",
       "    }\n",
       "\n",
       "    .dataframe tbody tr th {\n",
       "        vertical-align: top;\n",
       "    }\n",
       "\n",
       "    .dataframe thead th {\n",
       "        text-align: right;\n",
       "    }\n",
       "</style>\n",
       "<table border=\"1\" class=\"dataframe\">\n",
       "  <thead>\n",
       "    <tr style=\"text-align: right;\">\n",
       "      <th></th>\n",
       "      <th>records_lost</th>\n",
       "      <th>YEAR</th>\n",
       "      <th>DATA_SENSITIVITY</th>\n",
       "    </tr>\n",
       "    <tr>\n",
       "      <th>Entity</th>\n",
       "      <th></th>\n",
       "      <th></th>\n",
       "      <th></th>\n",
       "    </tr>\n",
       "  </thead>\n",
       "  <tbody>\n",
       "    <tr>\n",
       "      <th>Petflow</th>\n",
       "      <td>0.0</td>\n",
       "      <td>2019.0</td>\n",
       "      <td>1</td>\n",
       "    </tr>\n",
       "    <tr>\n",
       "      <th>Snapchat</th>\n",
       "      <td>1700000.0</td>\n",
       "      <td>2017.0</td>\n",
       "      <td>1</td>\n",
       "    </tr>\n",
       "    <tr>\n",
       "      <th>Nametests</th>\n",
       "      <td>120000000.0</td>\n",
       "      <td>2018.0</td>\n",
       "      <td>1</td>\n",
       "    </tr>\n",
       "    <tr>\n",
       "      <th>Facebook</th>\n",
       "      <td>6000000.0</td>\n",
       "      <td>2013.0</td>\n",
       "      <td>1</td>\n",
       "    </tr>\n",
       "    <tr>\n",
       "      <th>Twitter</th>\n",
       "      <td>330000000.0</td>\n",
       "      <td>2018.0</td>\n",
       "      <td>1</td>\n",
       "    </tr>\n",
       "  </tbody>\n",
       "</table>\n",
       "</div>"
      ],
      "text/plain": [
       "           records_lost    YEAR DATA_SENSITIVITY\n",
       "Entity                                          \n",
       "Petflow             0.0  2019.0                1\n",
       "Snapchat      1700000.0  2017.0                1\n",
       "Nametests   120000000.0  2018.0                1\n",
       "Facebook      6000000.0  2013.0                1\n",
       "Twitter     330000000.0  2018.0                1"
      ]
     },
     "execution_count": 54,
     "metadata": {},
     "output_type": "execute_result"
    }
   ],
   "source": [
    "df2.head()"
   ]
  },
  {
   "cell_type": "markdown",
   "metadata": {},
   "source": [
    "# Data Mining -Clustering"
   ]
  },
  {
   "cell_type": "code",
   "execution_count": 55,
   "metadata": {},
   "outputs": [],
   "source": [
    "from sklearn.cluster import KMeans\n",
    "df3 = np.array(df2)\n",
    "\n",
    "k = 3\n",
    "kmeans = KMeans(n_clusters=k)\n",
    "kmeans.fit(df3)\n",
    "\n",
    "labels = kmeans.labels_\n",
    "centroids = kmeans.cluster_centers_"
   ]
  },
  {
   "cell_type": "code",
   "execution_count": 56,
   "metadata": {},
   "outputs": [
    {
     "data": {
      "image/png": "[encoded data removed]",
      "text/plain": [
       "<Figure size 432x288 with 1 Axes>"
      ]
     },
     "metadata": {
      "needs_background": "light"
     },
     "output_type": "display_data"
    }
   ],
   "source": [
    "for i in range(k):\n",
    "    # select only data observations with cluster label == i\n",
    "    ds = df3[np.where(labels==i)]\n",
    "    # plot the data observations\n",
    "    plt.plot(ds[:,0],ds[:,1],'o', markersize=7)\n",
    "    # plot the centroids\n",
    "    lines = plt.plot(centroids[i,0],centroids[i,1],'kx')\n",
    "    # make the centroid x's bigger\n",
    "    plt.setp(lines,ms=15.0)\n",
    "    plt.setp(lines,mew=4.0)\n",
    "plt.show()"
   ]
  },
  {
   "cell_type": "markdown",
   "metadata": {},
   "source": [
    "# Data Visualization"
   ]
  },
  {
   "cell_type": "code",
   "execution_count": 57,
   "metadata": {},
   "outputs": [
    {
     "data": {
      "text/plain": [
       "Text(0, 0.5, 'YEAR')"
      ]
     },
     "execution_count": 57,
     "metadata": {},
     "output_type": "execute_result"
    },
    {
     "data": {
      "image/png": "[encoded data removed]",
      "text/plain": [
       "<Figure size 432x288 with 1 Axes>"
      ]
     },
     "metadata": {
      "needs_background": "light"
     },
     "output_type": "display_data"
    }
   ],
   "source": [
    "# create a figure and axis\n",
    "fig, ax = plt.subplots()\n",
    "\n",
    "# scatter the sepal_length against the sepal_width\n",
    "ax.scatter(df2['records_lost'], df2['YEAR'])\n",
    "# set a title and labels\n",
    "ax.set_title('Records lost in each years')\n",
    "ax.set_xlabel('records lost')\n",
    "ax.set_ylabel('YEAR')\n"
   ]
  },
  {
   "cell_type": "code",
   "execution_count": 58,
   "metadata": {},
   "outputs": [
    {
     "data": {
      "text/plain": [
       "<matplotlib.axes._subplots.AxesSubplot at 0x1d3823f09c8>"
      ]
     },
     "execution_count": 58,
     "metadata": {},
     "output_type": "execute_result"
    },
    {
     "data": {
      "image/png": "[encoded data removed]",
      "text/plain": [
       "<Figure size 432x288 with 1 Axes>"
      ]
     },
     "metadata": {
      "needs_background": "light"
     },
     "output_type": "display_data"
    }
   ],
   "source": [
    "from pandas import Series\n",
    "from matplotlib import pyplot\n",
    "ax1 = plt.subplot(211)\n",
    "ax1.set_title('Distribution of years')\n",
    "ax1.set_ylabel('count')\n",
    "ax1.set_xlabel('year')\n",
    "\n",
    "# second raw 1st column 1st number plot\n",
    "# plot histogram with time and ASPI value\n",
    "df2.YEAR.hist()\n"
   ]
  },
  {
   "cell_type": "code",
   "execution_count": 59,
   "metadata": {},
   "outputs": [
    {
     "data": {
      "text/plain": [
       "<matplotlib.axes._subplots.AxesSubplot at 0x1d3824bb808>"
      ]
     },
     "execution_count": 59,
     "metadata": {},
     "output_type": "execute_result"
    },
    {
     "data": {
      "image/png": "[encoded data removed]",
      "text/plain": [
       "<Figure size 432x288 with 1 Axes>"
      ]
     },
     "metadata": {
      "needs_background": "light"
     },
     "output_type": "display_data"
    }
   ],
   "source": [
    "ax1 = plt.subplot(211)\n",
    "ax1.set_title('Distribution of Data_sensitivity')\n",
    "\n",
    "df2.DATA_SENSITIVITY.hist()\n"
   ]
  },
  {
   "cell_type": "markdown",
   "metadata": {},
   "source": [
    "# Presentation"
   ]
  },
  {
   "cell_type": "code",
   "execution_count": 74,
   "metadata": {},
   "outputs": [
    {
     "data": {
      "text/plain": [
       "<seaborn.axisgrid.PairGrid at 0x1d383f0fdc8>"
      ]
     },
     "execution_count": 74,
     "metadata": {},
     "output_type": "execute_result"
    },
    {
     "data": {
      "image/png": "[encoded data removed]",
      "text/plain": [
       "<Figure size 461.5x360 with 6 Axes>"
      ]
     },
     "metadata": {
      "needs_background": "light"
     },
     "output_type": "display_data"
    }
   ],
   "source": [
    "\n",
    "sns.pairplot(df, hue = 'METHOD')"
   ]
  },
  {
   "cell_type": "code",
   "execution_count": null,
   "metadata": {},
   "outputs": [],
   "source": [
    "\n"
   ]
  },
  {
   "cell_type": "code",
   "execution_count": null,
   "metadata": {},
   "outputs": [],
   "source": []
  },
  {
   "cell_type": "code",
   "execution_count": null,
   "metadata": {},
   "outputs": [],
   "source": []
  }
 ],
 "metadata": {
  "kernelspec": {
   "display_name": "Python 3",
   "language": "python",
   "name": "python3"
  },
  "language_info": {
   "codemirror_mode": {
    "name": "ipython",
    "version": 3
   },
   "file_extension": ".py",
   "mimetype": "text/x-python",
   "name": "python",
   "nbconvert_exporter": "python",
   "pygments_lexer": "ipython3",
   "version": "3.7.7"
  }
 },
 "nbformat": 4,
 "nbformat_minor": 4
}
